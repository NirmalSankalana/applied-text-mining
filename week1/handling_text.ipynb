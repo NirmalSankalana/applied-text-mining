{
 "cells": [
  {
   "cell_type": "code",
   "execution_count": 1,
   "metadata": {},
   "outputs": [
    {
     "data": {
      "text/plain": [
       "['Arsenal',\n",
       " 'star',\n",
       " 'Bukayo',\n",
       " 'Saka',\n",
       " 'will',\n",
       " 'sign',\n",
       " 'his',\n",
       " 'new',\n",
       " 'contract',\n",
       " 'very',\n",
       " 'soon,',\n",
       " 'no',\n",
       " 'changes',\n",
       " 'in',\n",
       " 'the',\n",
       " 'plan',\n",
       " 'as',\n",
       " 'verbal',\n",
       " 'agreement',\n",
       " 'is',\n",
       " 'in',\n",
       " 'place',\n",
       " 'since',\n",
       " 'February.Three',\n",
       " 'clubs',\n",
       " '[two',\n",
       " 'from',\n",
       " 'England',\n",
       " 'and',\n",
       " 'one',\n",
       " 'from',\n",
       " 'abroad]',\n",
       " 'were',\n",
       " 'monitoring',\n",
       " 'Saka’s',\n",
       " 'contract',\n",
       " 'situation',\n",
       " 'since',\n",
       " 'long',\n",
       " 'time',\n",
       " 'but',\n",
       " 'no',\n",
       " 'way:',\n",
       " 'he’s',\n",
       " 'staying.']"
      ]
     },
     "execution_count": 1,
     "metadata": {},
     "output_type": "execute_result"
    }
   ],
   "source": [
    "text1 = \"Arsenal star Bukayo Saka will sign his new contract very soon, no changes in the plan as verbal agreement is in place since February.Three clubs [two from England and one from abroad] were monitoring Saka’s contract situation since long time but no way: he’s staying.\"\n",
    "text_list1 = text1.split(\" \")\n",
    "text_list1"
   ]
  },
  {
   "cell_type": "code",
   "execution_count": 3,
   "metadata": {},
   "outputs": [
    {
     "data": {
      "text/plain": [
       "['Arsenal',\n",
       " 'Bukayo',\n",
       " 'contract',\n",
       " 'soon,',\n",
       " 'changes',\n",
       " 'verbal',\n",
       " 'agreement',\n",
       " 'place',\n",
       " 'since',\n",
       " 'February.Three',\n",
       " 'clubs',\n",
       " 'England',\n",
       " 'abroad]',\n",
       " 'monitoring',\n",
       " 'Saka’s',\n",
       " 'contract',\n",
       " 'situation',\n",
       " 'since',\n",
       " 'staying.']"
      ]
     },
     "execution_count": 3,
     "metadata": {},
     "output_type": "execute_result"
    }
   ],
   "source": [
    "[w for w in text_list1 if len(w) > 4]"
   ]
  },
  {
   "cell_type": "code",
   "execution_count": 4,
   "metadata": {},
   "outputs": [
    {
     "data": {
      "text/plain": [
       "['Arsenal', 'Bukayo', 'Saka', 'February.Three', 'England']"
      ]
     },
     "execution_count": 4,
     "metadata": {},
     "output_type": "execute_result"
    }
   ],
   "source": [
    "[w for w in text_list1 if w.istitle()]"
   ]
  },
  {
   "cell_type": "code",
   "execution_count": 5,
   "metadata": {},
   "outputs": [
    {
     "data": {
      "text/plain": [
       "['his', 'changes', 'as', 'is', 'clubs', 'Saka’s', 'he’s']"
      ]
     },
     "execution_count": 5,
     "metadata": {},
     "output_type": "execute_result"
    }
   ],
   "source": [
    "[w for w in text_list1 if w.endswith('s')]"
   ]
  },
  {
   "cell_type": "code",
   "execution_count": 7,
   "metadata": {},
   "outputs": [
    {
     "data": {
      "text/plain": [
       "{'[two',\n",
       " 'abroad]',\n",
       " 'agreement',\n",
       " 'and',\n",
       " 'arsenal',\n",
       " 'as',\n",
       " 'bukayo',\n",
       " 'but',\n",
       " 'changes',\n",
       " 'clubs',\n",
       " 'contract',\n",
       " 'england',\n",
       " 'february.three',\n",
       " 'from',\n",
       " 'he’s',\n",
       " 'his',\n",
       " 'in',\n",
       " 'is',\n",
       " 'long',\n",
       " 'monitoring',\n",
       " 'new',\n",
       " 'no',\n",
       " 'one',\n",
       " 'place',\n",
       " 'plan',\n",
       " 'saka',\n",
       " 'saka’s',\n",
       " 'sign',\n",
       " 'since',\n",
       " 'situation',\n",
       " 'soon,',\n",
       " 'star',\n",
       " 'staying.',\n",
       " 'the',\n",
       " 'time',\n",
       " 'verbal',\n",
       " 'very',\n",
       " 'way:',\n",
       " 'were',\n",
       " 'will'}"
      ]
     },
     "execution_count": 7,
     "metadata": {},
     "output_type": "execute_result"
    }
   ],
   "source": [
    "set([w.lower() for w in text_list1])"
   ]
  },
  {
   "cell_type": "code",
   "execution_count": 15,
   "metadata": {},
   "outputs": [
    {
     "data": {
      "text/plain": [
       "['Ms ',\n",
       " 'Chamathka got a summer ',\n",
       " 'Internship in the USA when she is 20. Mr Rohitha ',\n",
       " 'Rajapakse launched a ',\n",
       " 'satellite🛰️ at the age of 23. Me: spent a whopping 3 f**king years in university and then became an underpaid intern at a software company at the ripe old age of 24. ',\n",
       " 'WeAreLosers']"
      ]
     },
     "execution_count": 15,
     "metadata": {},
     "output_type": "execute_result"
    }
   ],
   "source": [
    "text2 = \"Ms #Chamathka got a summer #Internship in the USA when she is 20. Mr Rohitha #Rajapakse launched a #satellite🛰️ at the age of 23. Me: spent a whopping 3 f**king years in university and then became an underpaid intern at a software company at the ripe old age of 24. #WeAreLosers\"\n",
    "text_list2 = text2.split(\"#\")\n",
    "text_list2"
   ]
  },
  {
   "cell_type": "code",
   "execution_count": 20,
   "metadata": {},
   "outputs": [
    {
     "data": {
      "text/plain": [
       "'Ms Chamathka got a summer Internship in the USA when she is 20. Mr Rohitha Rajapakse launched a satellite🛰️ at the age of 23. Me: spent a whopping 3 f**king years in university and then became an underpaid intern at a software company at the ripe old age of 24. WeAreLosers'"
      ]
     },
     "execution_count": 20,
     "metadata": {},
     "output_type": "execute_result"
    }
   ],
   "source": [
    "text_joined2 = \"\".join(text_list2)\n",
    "text_joined2"
   ]
  },
  {
   "cell_type": "code",
   "execution_count": 22,
   "metadata": {},
   "outputs": [
    {
     "data": {
      "text/plain": [
       "67"
      ]
     },
     "execution_count": 22,
     "metadata": {},
     "output_type": "execute_result"
    }
   ],
   "source": [
    "text_joined2.find('Rohitha')"
   ]
  },
  {
   "cell_type": "code",
   "execution_count": 24,
   "metadata": {},
   "outputs": [
    {
     "data": {
      "text/plain": [
       "'Ms Chamathka got a summer Internship in the USA when she is 20. Mr Chichi Rajapakse launched a satellite🛰️ at the age of 23. Me: spent a whopping 3 f**king years in university and then became an underpaid intern at a software company at the ripe old age of 24. WeAreLosers'"
      ]
     },
     "execution_count": 24,
     "metadata": {},
     "output_type": "execute_result"
    }
   ],
   "source": [
    "text_joined2.replace('Rohitha', 'Chichi')"
   ]
  },
  {
   "cell_type": "code",
   "execution_count": 27,
   "metadata": {},
   "outputs": [
    {
     "data": {
      "text/plain": [
       "'#Chatbot Training Data Collecting: \\n'"
      ]
     },
     "execution_count": 27,
     "metadata": {},
     "output_type": "execute_result"
    }
   ],
   "source": [
    "with open('file1.txt', 'r', encoding='utf-8') as f1:\n",
    "    line = f1.readline()\n",
    "line"
   ]
  },
  {
   "cell_type": "code",
   "execution_count": 29,
   "metadata": {},
   "outputs": [
    {
     "data": {
      "text/plain": [
       "\"#Chatbot Training Data Collecting: \\nIf you were a student interested in applying to Monash University, which questions would you want to ask the university's chatbot, capable of answering any query?\\nMs #Chamathka got a summer #Internship in the USA when she is 20.\\nMr Rohitha #Rajapakse launched a #satellite🛰️ at the age of 23.\\nMe: spent a whopping 3 f**king years in university and then became an underpaid intern at a software company at the ripe old age of 24.\\n#WeAreLosers\\nSpent my afternoon at Surani's place, cleaning up her mess like a good boy. I deserve a medal or at least a good scratching post. 😼\\n #domesticatedlife #Polly #PollytheCat #catthoughts\\n දෙයක් විකිණීමෙන් පසු යමෙක් සිංහයෙකු ලෙසින් හැසිරේද හෙතෙම #වික්\\u200dරමසිංහ නම්වේ ෴\\n 1. Send an HTTP request to the webpage \\n2. Parse HTML content using #BeautifulSoup \\n3. Navigate and search through the parsed data \\n4. Extract required information using tag names or CSS selectors \\n5. Store data in the desired format\\nHere’s an update, we started an organic agriculture project called “Scattered Harvest” last year during all the turmoil. It was our solution to the fertilizer crisis + forex crisis.\\n\\nLast week we made our first shipment, the business is now cashflow positive.\\nCardio exercises should be done for half an hour a day😁 Must reduce sweet and starchy foods😁\\nYesterday, I received my salary and it was 13% lower than the previous month because of the rupee's appreciation. #ThankYouMrPresident\\nMeta AI researchers show how current language models differ from the human brain & highlight the role of long-range & hierarchical predictions.\\n\\nRead the open accessed article in Nature\\nJust used #jaal for #Twitter network data visualization and it's amazing! This pip package is perfect for creating interactive dashboards for network data visualizations. Huge thanks to \\n@imohitmayank\\n for creating such a fantastic product. Highly recommend it! #datavis #python\""
      ]
     },
     "execution_count": 29,
     "metadata": {},
     "output_type": "execute_result"
    }
   ],
   "source": [
    "with open('file1.txt', 'r', encoding='utf-8') as f1:\n",
    "    text3 = f1.read()\n",
    "text3"
   ]
  },
  {
   "cell_type": "code",
   "execution_count": 30,
   "metadata": {},
   "outputs": [
    {
     "data": {
      "text/plain": [
       "['#Chatbot Training Data Collecting: ',\n",
       " \"If you were a student interested in applying to Monash University, which questions would you want to ask the university's chatbot, capable of answering any query?\",\n",
       " 'Ms #Chamathka got a summer #Internship in the USA when she is 20.',\n",
       " 'Mr Rohitha #Rajapakse launched a #satellite🛰️ at the age of 23.',\n",
       " 'Me: spent a whopping 3 f**king years in university and then became an underpaid intern at a software company at the ripe old age of 24.',\n",
       " '#WeAreLosers',\n",
       " \"Spent my afternoon at Surani's place, cleaning up her mess like a good boy. I deserve a medal or at least a good scratching post. 😼\",\n",
       " ' #domesticatedlife #Polly #PollytheCat #catthoughts',\n",
       " ' දෙයක් විකිණීමෙන් පසු යමෙක් සිංහයෙකු ලෙසින් හැසිරේද හෙතෙම #වික්\\u200dරමසිංහ නම්වේ ෴',\n",
       " ' 1. Send an HTTP request to the webpage ',\n",
       " '2. Parse HTML content using #BeautifulSoup ',\n",
       " '3. Navigate and search through the parsed data ',\n",
       " '4. Extract required information using tag names or CSS selectors ',\n",
       " '5. Store data in the desired format',\n",
       " 'Here’s an update, we started an organic agriculture project called “Scattered Harvest” last year during all the turmoil. It was our solution to the fertilizer crisis + forex crisis.',\n",
       " '',\n",
       " 'Last week we made our first shipment, the business is now cashflow positive.',\n",
       " 'Cardio exercises should be done for half an hour a day😁 Must reduce sweet and starchy foods😁',\n",
       " \"Yesterday, I received my salary and it was 13% lower than the previous month because of the rupee's appreciation. #ThankYouMrPresident\",\n",
       " 'Meta AI researchers show how current language models differ from the human brain & highlight the role of long-range & hierarchical predictions.',\n",
       " '',\n",
       " 'Read the open accessed article in Nature',\n",
       " \"Just used #jaal for #Twitter network data visualization and it's amazing! This pip package is perfect for creating interactive dashboards for network data visualizations. Huge thanks to \",\n",
       " '@imohitmayank',\n",
       " ' for creating such a fantastic product. Highly recommend it! #datavis #python']"
      ]
     },
     "execution_count": 30,
     "metadata": {},
     "output_type": "execute_result"
    }
   ],
   "source": [
    "text3.splitlines()"
   ]
  }
 ],
 "metadata": {
  "kernelspec": {
   "display_name": "Python 3",
   "language": "python",
   "name": "python3"
  },
  "language_info": {
   "codemirror_mode": {
    "name": "ipython",
    "version": 3
   },
   "file_extension": ".py",
   "mimetype": "text/x-python",
   "name": "python",
   "nbconvert_exporter": "python",
   "pygments_lexer": "ipython3",
   "version": "3.11.2"
  },
  "orig_nbformat": 4
 },
 "nbformat": 4,
 "nbformat_minor": 2
}
